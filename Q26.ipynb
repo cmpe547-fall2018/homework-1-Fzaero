{
 "cells": [
  {
   "cell_type": "code",
   "execution_count": 306,
   "metadata": {},
   "outputs": [],
   "source": [
    "import numpy as np\n",
    "import itertools\n",
    "\n",
    "def expectation(domains,ProbTable,func):\n",
    "    \"\"\"\n",
    "    @domains: List of Lists, each list corresponding to domain of a random variable\n",
    "    @ProbTable np.ndarray, ith index corresponding to ith list in domains\n",
    "    @func function that will be applied\n",
    "    \"\"\"\n",
    "    Fx=0\n",
    "    indexes = map(lambda x: range(len(x)), domains)\n",
    "    domains_np=np.array(domains)\n",
    "    table_indexes = list(itertools.product(*indexes)) \n",
    "    for ind in (table_indexes):\n",
    "        x= map(lambda x: domains_np[x][ind[x]],range(len(ind))) \n",
    "        Fx=Fx+func(x)*ProbTable[ind]\n",
    "    return Fx\n",
    "def cond_expectations(domains,ProbTable,func,givens):\n",
    "    \"\"\"\n",
    "    @domains: List of Lists, each list corresponding to domain of a random variable\n",
    "    @ProbTable np.ndarray, ith index corresponding to ith list in domains\n",
    "    @func function that will be applied\n",
    "    @given List corresponding to domains\n",
    "    \"\"\"\n",
    "    given_prob = probability_table\n",
    "    for i in range(len(domain)):\n",
    "        if i not in givens:\n",
    "            given_prob = np.sum(given_prob,axis=i,keepdims=True)\n",
    "\n",
    "    p_given = np.divide(probability_table,given_prob)\n",
    "    \n",
    "    indexes = map(lambda x: range(len(domains[x])) if x in givens else [(range(len(domains[x])))] ,range(len(domain)) )\n",
    "    table_indexes = list(itertools.product(*indexes)) \n",
    "    \n",
    "    domains_new=list()\n",
    "    for i in range(len(domains)):\n",
    "        if i not in givens:\n",
    "            domains_new.append(domains[i])\n",
    "    table_indexes2 = list(itertools.product(*domains_new)) \n",
    "    Fx=list()\n",
    "    for ind in range(len(table_indexes)):\n",
    "        Fx.append(expectation(domains_new,p_given[table_indexes[ind]],func))\n",
    "#     for i in range(len(table_indexes)):\n",
    "#         print i\n",
    "    return Fx\n",
    "        \n",
    "def variance(domains,ProbTable,func):\n",
    "    \"\"\"\n",
    "    @domains: List of Lists, each list corresponding to domain of a random variable\n",
    "    @ProbTable np.ndarray, ith index corresponding to ith list in domains\n",
    "    @func function that will be applied\n",
    "    \"\"\"\n",
    "    exp=expectation(domains,ProbTable,func)\n",
    "    func2=lambda x: (func(x)-exp)**2\n",
    "    var = expectation(domains,ProbTable,func2)\n",
    "    return var\n",
    "def covariance(domains,ProbTable,func,func2):\n",
    "    \"\"\"\n",
    "    @domains: List of Lists, each list corresponding to domain of a random variable\n",
    "    @ProbTable np.ndarray, ith index corresponding to ith list in domains\n",
    "    @func function that will be applied\n",
    "    \"\"\"\n",
    "    exp1=expectation(domains,ProbTable,func)\n",
    "    exp2=expectation(domains,ProbTable,func2)\n",
    "    func3=lambda x: (func(x)-exp1)*(func2(x)-exp2)\n",
    "    var = expectation(domains,ProbTable,func3)\n",
    "    return var"
   ]
  },
  {
   "cell_type": "code",
   "execution_count": 433,
   "metadata": {},
   "outputs": [],
   "source": [
    "domains=[[1.0,2.0],[-1.0,0.0,5.0]]\n",
    "probability_table=np.array([[0.3,0.3,0],[0.1,0.2,0.1]])\n",
    "func=lambda x: x[0]"
   ]
  },
  {
   "cell_type": "markdown",
   "metadata": {},
   "source": [
    "# 1.) Expectations"
   ]
  },
  {
   "cell_type": "code",
   "execution_count": 435,
   "metadata": {},
   "outputs": [
    {
     "name": "stdout",
     "output_type": "stream",
     "text": [
      "<x> 1.4000000000000001\n",
      "<y> 0.09999999999999998\n",
      "<y|x> [-0.5, 1.0]\n",
      "<x|y> [1.25, 1.4, 2.0]\n",
      "cov(x,y) 0.36000000000000004\n"
     ]
    }
   ],
   "source": [
    "print '<x>',expectation(domains,probability_table,lambda x: x[0])\n",
    "print '<y>',expectation(domains,probability_table,lambda x: x[1])\n",
    "print '<y|x>',cond_expectations(domains,probability_table,func,[0,])\n",
    "print '<x|y>',cond_expectations(domains,probability_table,func,[1,])\n",
    "print 'cov(x,y)',covariance(domains,probability_table,lambda x: x[0],lambda x: x[1])"
   ]
  },
  {
   "cell_type": "markdown",
   "metadata": {},
   "source": [
    "# Entropy"
   ]
  },
  {
   "cell_type": "code",
   "execution_count": 436,
   "metadata": {},
   "outputs": [],
   "source": [
    "def entropy(domains,probability_table):\n",
    "    indexes = map(lambda x: range(len(x)), domains)\n",
    "    domains_np=np.array(domains)\n",
    "    table_indexes = list(itertools.product(*indexes))\n",
    "    probability_table_dict={}\n",
    "    for ind in (table_indexes):\n",
    "        x= map(lambda x: domains_np[x][ind[x]],range(len(ind)))\n",
    "        probability_table_dict[tuple(x)] = probability_table[ind]\n",
    "    z=-expectation(domains,probability_table,lambda x: np.log(probability_table_dict[tuple(x)]) if probability_table_dict[tuple(x)]>0 else 0)\n",
    "    return z\n",
    "def cond_entropy(domains,probability_table,givens):\n",
    "    given_prob = probability_table\n",
    "    for i in range(len(domain)):\n",
    "        if i not in givens:\n",
    "            given_prob = np.sum(given_prob,axis=i,keepdims=True)\n",
    "    for i in range(len(domain)):\n",
    "        if i not in givens:\n",
    "            given_prob = np.sum(given_prob,axis=i,keepdims=True)\n",
    "    p_given = np.divide(probability_table,given_prob)\n",
    "    \n",
    "    indexes = map(lambda x: range(len(domains[x])) if x in givens else [(range(len(domains[x])))] ,range(len(domain)) )\n",
    "    table_indexes = list(itertools.product(*indexes)) \n",
    "    \n",
    "    domains_new=list()\n",
    "    for i in range(len(domains)):\n",
    "        if i not in givens:\n",
    "            domains_new.append(domains[i])\n",
    "    table_indexes2 = list(itertools.product(*domains_new)) \n",
    "    \n",
    "    Fx=list()\n",
    "    for ind in range(len(table_indexes)):\n",
    "        Fx.append(entropy(domains_new,p_given[table_indexes[ind]]))\n",
    "    return np.array(Fx).reshape(-1).dot(given_prob.reshape(-1))"
   ]
  },
  {
   "cell_type": "markdown",
   "metadata": {},
   "source": [
    "## 2-3-4\n"
   ]
  },
  {
   "cell_type": "code",
   "execution_count": 437,
   "metadata": {},
   "outputs": [
    {
     "name": "stdout",
     "output_type": "stream",
     "text": [
      "H[x, y] 1.5047882836811908\n",
      "H[x] 0.6730116670092565\n",
      "H[y] 0.9433483923290391\n",
      "H[y|x] 0.8317766166719344\n",
      "H[x|y] 0.5614398913521517\n"
     ]
    }
   ],
   "source": [
    "Hxy = entropy(domains,probability_table)\n",
    "Hx = entropy([domains[0]],np.sum(probability_table,axis=1))\n",
    "Hy = entropy([domains[1]],np.sum(probability_table,axis=0))\n",
    "Hy_x = cond_entropy(domains,probability_table,[0,])\n",
    "Hx_y = cond_entropy(domains,probability_table,[1,])\n",
    "print 'H[x, y]',Hxy\n",
    "print 'H[x]',Hx\n",
    "print 'H[y]',Hy\n",
    "print 'H[y|x]',Hy_x\n",
    "print 'H[x|y]',Hx_y"
   ]
  },
  {
   "cell_type": "markdown",
   "metadata": {},
   "source": [
    "# Mutual Information"
   ]
  },
  {
   "cell_type": "code",
   "execution_count": 438,
   "metadata": {},
   "outputs": [],
   "source": [
    "# Works for nd=2 case\n",
    "def mutualInfo(domains,probability_table,x):\n",
    "    H= entropy([domains[x]],np.sum(probability_table,axis=1-x))\n",
    "    H_=cond_entropy(domains,probability_table,[1-x,])\n",
    "    return H-H_"
   ]
  },
  {
   "cell_type": "markdown",
   "metadata": {},
   "source": [
    "# 5"
   ]
  },
  {
   "cell_type": "code",
   "execution_count": 439,
   "metadata": {},
   "outputs": [
    {
     "name": "stdout",
     "output_type": "stream",
     "text": [
      "I(x,y) 0.11157177565710485\n"
     ]
    }
   ],
   "source": [
    "Ixy=mutualInfo(domains,probability_table,0)\n",
    "print 'I(x,y)',Ixy"
   ]
  },
  {
   "cell_type": "markdown",
   "metadata": {},
   "source": [
    "# 7"
   ]
  },
  {
   "cell_type": "code",
   "execution_count": 440,
   "metadata": {},
   "outputs": [
    {
     "data": {
      "image/png": "[encoded data removed]",
      "text/plain": [
       "<Figure size 1152x360 with 1 Axes>"
      ]
     },
     "metadata": {},
     "output_type": "display_data"
    }
   ],
   "source": [
    "import matplotlib.pyplot as plt\n",
    "plt.figure(figsize=(16,5))\n",
    "plt.plot([0,Hxy],[4,4])\n",
    "plt.plot([0,Hx],[3,3])\n",
    "plt.plot([Hxy-Hy,Hxy],[2,2])\n",
    "plt.plot([0,Hx_y-0.01],[1,1])# Subtracted 0.01 to show seperation\n",
    "plt.plot([Hxy-Hy_x+0.01,Hxy],[1,1]) # Added 0.01 to show seperation\n",
    "plt.plot([Hx_y,Hx_y+Ixy],[1,1])\n",
    "plt.legend(['H[x, y]','H[x]','H[y]','H[x|y]','H[y|x]','I(x,y)'],loc=5,bbox_to_anchor=(0.9,0.7, 0, 0))\n",
    "plt.show()"
   ]
  }
 ],
 "metadata": {
  "kernelspec": {
   "display_name": "Python 2",
   "language": "python",
   "name": "python2"
  },
  "language_info": {
   "codemirror_mode": {
    "name": "ipython",
    "version": 2
   },
   "file_extension": ".py",
   "mimetype": "text/x-python",
   "name": "python",
   "nbconvert_exporter": "python",
   "pygments_lexer": "ipython2",
   "version": "2.7.15"
  },
  "varInspector": {
   "cols": {
    "lenName": 16,
    "lenType": 16,
    "lenVar": 40
   },
   "kernels_config": {
    "python": {
     "delete_cmd_postfix": "",
     "delete_cmd_prefix": "del ",
     "library": "var_list.py",
     "varRefreshCmd": "print(var_dic_list())"
    },
    "r": {
     "delete_cmd_postfix": ") ",
     "delete_cmd_prefix": "rm(",
     "library": "var_list.r",
     "varRefreshCmd": "cat(var_dic_list()) "
    }
   },
   "types_to_exclude": [
    "module",
    "function",
    "builtin_function_or_method",
    "instance",
    "_Feature"
   ],
   "window_display": false
  }
 },
 "nbformat": 4,
 "nbformat_minor": 2
}
